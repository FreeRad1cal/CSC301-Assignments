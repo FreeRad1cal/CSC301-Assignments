{
 "cells": [
  {
   "cell_type": "code",
   "execution_count": 1,
   "metadata": {},
   "outputs": [
    {
     "data": {
      "text/html": [
       "\n",
       "    <div class=\"bk-root\">\n",
       "        <a href=\"http://bokeh.pydata.org\" target=\"_blank\" class=\"bk-logo bk-logo-small bk-logo-notebook\"></a>\n",
       "        <span id=\"ca06a410-6d36-46d3-9d70-7031a64dc71a\">Loading BokehJS ...</span>\n",
       "    </div>"
      ],
      "text/plain": [
       "\n",
       "    <div class=\"bk-root\">\n",
       "        <a href=\"http://bokeh.pydata.org\" target=\"_blank\" class=\"bk-logo bk-logo-small bk-logo-notebook\"></a>\n",
       "        <span id=\"ca06a410-6d36-46d3-9d70-7031a64dc71a\">Loading BokehJS ...</span>\n",
       "    </div>"
      ]
     },
     "execution_count": 0,
     "metadata": {},
     "output_type": "execute_result"
    },
    {
     "data": {
      "text/html": [
       "\n",
       "    <div class=\"bk-root\">\n",
       "        <a href=\"http://bokeh.pydata.org\" target=\"_blank\" class=\"bk-logo bk-logo-small bk-logo-notebook\"></a>\n",
       "        <span id=\"ca06a410-6d36-46d3-9d70-7031a64dc71a\">Loading BokehJS ...</span>\n",
       "    </div>"
      ],
      "text/plain": [
       "\n",
       "    <div class=\"bk-root\">\n",
       "        <a href=\"http://bokeh.pydata.org\" target=\"_blank\" class=\"bk-logo bk-logo-small bk-logo-notebook\"></a>\n",
       "        <span id=\"ca06a410-6d36-46d3-9d70-7031a64dc71a\">Loading BokehJS ...</span>\n",
       "    </div>"
      ]
     },
     "execution_count": 0,
     "metadata": {},
     "output_type": "execute_result"
    }
   ],
   "source": [
    "import scipy.integrate as integrate\n",
    "import numpy as np\n",
    "import pandas as pd\n",
    "from bokeh.plotting import figure, output_notebook, show\n",
    "output_notebook()"
   ]
  },
  {
   "cell_type": "markdown",
   "metadata": {
    "collapsed": true
   },
   "source": [
    "### Problem 1"
   ]
  },
  {
   "cell_type": "markdown",
   "metadata": {},
   "source": [
    "#### a)\n"
   ]
  },
  {
   "cell_type": "markdown",
   "metadata": {},
   "source": [
    "$$\\begin{equation}M_2 = 0.03125\\end{equation}$$\n",
    "\n",
    "$$\\begin{equation}n \\geq 2\\sqrt{\\frac{2 \\times 0.03125}{2880 \\times 10^{-5}}}\\end{equation}$$\n",
    "\n",
    "$$\\begin{equation}n \\geq 3\\end{equation}$$"
   ]
  },
  {
   "cell_type": "code",
   "execution_count": 2,
   "metadata": {},
   "outputs": [],
   "source": [
    "xs = np.linspace(0, 2, 3)\n",
    "ys = np.apply_along_axis(lambda x: 1/(x+4), 0, xs)"
   ]
  },
  {
   "cell_type": "code",
   "execution_count": 3,
   "metadata": {},
   "outputs": [
    {
     "data": {
      "text/plain": [
       "0.40833333333333333"
      ]
     },
     "execution_count": 3,
     "metadata": {},
     "output_type": "execute_result"
    }
   ],
   "source": [
    "trapz_appx = integrate.trapz(ys, xs)\n",
    "trapz_appx"
   ]
  },
  {
   "cell_type": "markdown",
   "metadata": {},
   "source": [
    "#### b)"
   ]
  },
  {
   "cell_type": "markdown",
   "metadata": {},
   "source": [
    "$$\\begin{equation}M_4 = 0.0234375\\end{equation}$$\n",
    "\n",
    "$$\\begin{equation}n \\geq 2\\sqrt[4]{\\frac{2 \\times 0.0234375}{2880 \\times 10^{-5}}}\\end{equation}$$\n",
    "\n",
    "$$\\begin{equation}n \\geq 2\\end{equation}$$"
   ]
  },
  {
   "cell_type": "code",
   "execution_count": 4,
   "metadata": {},
   "outputs": [],
   "source": [
    "xs = np.linspace(0, 2, 2)\n",
    "ys = np.apply_along_axis(lambda x: 1/(x+4), 0, xs)"
   ]
  },
  {
   "cell_type": "code",
   "execution_count": 5,
   "metadata": {},
   "outputs": [
    {
     "data": {
      "text/plain": [
       "0.41666666666666663"
      ]
     },
     "execution_count": 5,
     "metadata": {},
     "output_type": "execute_result"
    }
   ],
   "source": [
    "simpson_appx = integrate.simps(ys, xs)\n",
    "simpson_appx"
   ]
  },
  {
   "cell_type": "code",
   "execution_count": 6,
   "metadata": {},
   "outputs": [
    {
     "data": {
      "text/plain": [
       "0.4054651016029282"
      ]
     },
     "execution_count": 6,
     "metadata": {},
     "output_type": "execute_result"
    }
   ],
   "source": [
    "gauss_appx = integrate.quadrature(lambda x: 1/(x+4), 0, 2, tol=0.00001)\n",
    "gauss_appx[0]"
   ]
  },
  {
   "cell_type": "code",
   "execution_count": 7,
   "metadata": {},
   "outputs": [
    {
     "data": {
      "text/html": [
       "<div>\n",
       "<table border=\"1\" class=\"dataframe\">\n",
       "  <thead>\n",
       "    <tr style=\"text-align: right;\">\n",
       "      <th></th>\n",
       "      <th>Value</th>\n",
       "    </tr>\n",
       "  </thead>\n",
       "  <tbody>\n",
       "    <tr>\n",
       "      <th>Trapezoidal</th>\n",
       "      <td>0.408333</td>\n",
       "    </tr>\n",
       "    <tr>\n",
       "      <th>Simpson</th>\n",
       "      <td>0.416667</td>\n",
       "    </tr>\n",
       "    <tr>\n",
       "      <th>Gaussian</th>\n",
       "      <td>0.405465</td>\n",
       "    </tr>\n",
       "  </tbody>\n",
       "</table>\n",
       "</div>"
      ],
      "text/plain": [
       "<div>\n",
       "<table border=\"1\" class=\"dataframe\">\n",
       "  <thead>\n",
       "    <tr style=\"text-align: right;\">\n",
       "      <th></th>\n",
       "      <th>Value</th>\n",
       "    </tr>\n",
       "  </thead>\n",
       "  <tbody>\n",
       "    <tr>\n",
       "      <th>Trapezoidal</th>\n",
       "      <td>0.408333</td>\n",
       "    </tr>\n",
       "    <tr>\n",
       "      <th>Simpson</th>\n",
       "      <td>0.416667</td>\n",
       "    </tr>\n",
       "    <tr>\n",
       "      <th>Gaussian</th>\n",
       "      <td>0.405465</td>\n",
       "    </tr>\n",
       "  </tbody>\n",
       "</table>\n",
       "</div>"
      ]
     },
     "execution_count": 7,
     "metadata": {},
     "output_type": "execute_result"
    }
   ],
   "source": [
    "results = pd.DataFrame([trapz_appx, simpson_appx, gauss_appx[0]], columns=[\"Value\"], index=[\"Trapezoidal\", \"Simpson\", \"Gaussian\"])\n",
    "results"
   ]
  },
  {
   "cell_type": "markdown",
   "metadata": {},
   "source": [
    "### Problem 2"
   ]
  },
  {
   "cell_type": "code",
   "execution_count": 8,
   "metadata": {},
   "outputs": [
    {
     "data": {
      "text/html": [
       "\n",
       "\n",
       "    <div class=\"bk-root\">\n",
       "        <div class=\"bk-plotdiv\" id=\"356f827b-922d-4210-b8d4-45b44692a37b\"></div>\n",
       "    </div>\n",
       "<script type=\"text/javascript\">\n",
       "  \n",
       "  (function(global) {\n",
       "    function now() {\n",
       "      return new Date();\n",
       "    }\n",
       "  \n",
       "    var force = false;\n",
       "  \n",
       "    if (typeof (window._bokeh_onload_callbacks) === \"undefined\" || force === true) {\n",
       "      window._bokeh_onload_callbacks = [];\n",
       "      window._bokeh_is_loading = undefined;\n",
       "    }\n",
       "  \n",
       "  \n",
       "    \n",
       "    if (typeof (window._bokeh_timeout) === \"undefined\" || force === true) {\n",
       "      window._bokeh_timeout = Date.now() + 0;\n",
       "      window._bokeh_failed_load = false;\n",
       "    }\n",
       "  \n",
       "    var NB_LOAD_WARNING = {'data': {'text/html':\n",
       "       \"<div style='background-color: #fdd'>\\n\"+\n",
       "       \"<p>\\n\"+\n",
       "       \"BokehJS does not appear to have successfully loaded. If loading BokehJS from CDN, this \\n\"+\n",
       "       \"may be due to a slow or bad network connection. Possible fixes:\\n\"+\n",
       "       \"</p>\\n\"+\n",
       "       \"<ul>\\n\"+\n",
       "       \"<li>re-rerun `output_notebook()` to attempt to load from CDN again, or</li>\\n\"+\n",
       "       \"<li>use INLINE resources instead, as so:</li>\\n\"+\n",
       "       \"</ul>\\n\"+\n",
       "       \"<code>\\n\"+\n",
       "       \"from bokeh.resources import INLINE\\n\"+\n",
       "       \"output_notebook(resources=INLINE)\\n\"+\n",
       "       \"</code>\\n\"+\n",
       "       \"</div>\"}};\n",
       "  \n",
       "    function display_loaded() {\n",
       "      if (window.Bokeh !== undefined) {\n",
       "        document.getElementById(\"356f827b-922d-4210-b8d4-45b44692a37b\").textContent = \"BokehJS successfully loaded.\";\n",
       "      } else if (Date.now() < window._bokeh_timeout) {\n",
       "        setTimeout(display_loaded, 100)\n",
       "      }\n",
       "    }\n",
       "  \n",
       "    function run_callbacks() {\n",
       "      window._bokeh_onload_callbacks.forEach(function(callback) { callback() });\n",
       "      delete window._bokeh_onload_callbacks\n",
       "      console.info(\"Bokeh: all callbacks have finished\");\n",
       "    }\n",
       "  \n",
       "    function load_libs(js_urls, callback) {\n",
       "      window._bokeh_onload_callbacks.push(callback);\n",
       "      if (window._bokeh_is_loading > 0) {\n",
       "        console.log(\"Bokeh: BokehJS is being loaded, scheduling callback at\", now());\n",
       "        return null;\n",
       "      }\n",
       "      if (js_urls == null || js_urls.length === 0) {\n",
       "        run_callbacks();\n",
       "        return null;\n",
       "      }\n",
       "      console.log(\"Bokeh: BokehJS not loaded, scheduling load and callback at\", now());\n",
       "      window._bokeh_is_loading = js_urls.length;\n",
       "      for (var i = 0; i < js_urls.length; i++) {\n",
       "        var url = js_urls[i];\n",
       "        var s = document.createElement('script');\n",
       "        s.src = url;\n",
       "        s.async = false;\n",
       "        s.onreadystatechange = s.onload = function() {\n",
       "          window._bokeh_is_loading--;\n",
       "          if (window._bokeh_is_loading === 0) {\n",
       "            console.log(\"Bokeh: all BokehJS libraries loaded\");\n",
       "            run_callbacks()\n",
       "          }\n",
       "        };\n",
       "        s.onerror = function() {\n",
       "          console.warn(\"failed to load library \" + url);\n",
       "        };\n",
       "        console.log(\"Bokeh: injecting script tag for BokehJS library: \", url);\n",
       "        document.getElementsByTagName(\"head\")[0].appendChild(s);\n",
       "      }\n",
       "    };var element = document.getElementById(\"356f827b-922d-4210-b8d4-45b44692a37b\");\n",
       "    if (element == null) {\n",
       "      console.log(\"Bokeh: ERROR: autoload.js configured with elementid '356f827b-922d-4210-b8d4-45b44692a37b' but no matching script tag was found. \")\n",
       "      return false;\n",
       "    }\n",
       "  \n",
       "    var js_urls = [];\n",
       "  \n",
       "    var inline_js = [\n",
       "      function(Bokeh) {\n",
       "        (function() {\n",
       "          var fn = function() {\n",
       "            var docs_json = {\"09031719-9e44-4f7c-a5ec-2b71a7b9d13d\":{\"roots\":{\"references\":[{\"attributes\":{\"plot\":{\"id\":\"7f515112-e092-470e-bbc9-fac086042b3e\",\"subtype\":\"Figure\",\"type\":\"Plot\"},\"ticker\":{\"id\":\"363fb738-333c-4455-a828-36b40d346d4a\",\"type\":\"BasicTicker\"}},\"id\":\"4aaffb0f-a0a0-43c5-bb21-47e4c251bfcd\",\"type\":\"Grid\"},{\"attributes\":{\"formatter\":{\"id\":\"aea05ce0-d5ff-41ae-a3a0-f33f2e7bb120\",\"type\":\"BasicTickFormatter\"},\"plot\":{\"id\":\"7f515112-e092-470e-bbc9-fac086042b3e\",\"subtype\":\"Figure\",\"type\":\"Plot\"},\"ticker\":{\"id\":\"8684fb31-5b08-4f78-9c3d-e639c978c1ac\",\"type\":\"BasicTicker\"}},\"id\":\"6f566d7c-c830-4301-aca4-687d33c30b60\",\"type\":\"LinearAxis\"},{\"attributes\":{},\"id\":\"8684fb31-5b08-4f78-9c3d-e639c978c1ac\",\"type\":\"BasicTicker\"},{\"attributes\":{\"dimension\":1,\"plot\":{\"id\":\"7f515112-e092-470e-bbc9-fac086042b3e\",\"subtype\":\"Figure\",\"type\":\"Plot\"},\"ticker\":{\"id\":\"8684fb31-5b08-4f78-9c3d-e639c978c1ac\",\"type\":\"BasicTicker\"}},\"id\":\"9fb22a5f-0e3d-4298-9e48-65d357982902\",\"type\":\"Grid\"},{\"attributes\":{\"bottom_units\":\"screen\",\"fill_alpha\":{\"value\":0.5},\"fill_color\":{\"value\":\"lightgrey\"},\"left_units\":\"screen\",\"level\":\"overlay\",\"line_alpha\":{\"value\":1.0},\"line_color\":{\"value\":\"black\"},\"line_dash\":[4,4],\"line_width\":{\"value\":2},\"plot\":null,\"render_mode\":\"css\",\"right_units\":\"screen\",\"top_units\":\"screen\"},\"id\":\"26f66cb1-5ad0-451f-baf6-36fa929a3c35\",\"type\":\"BoxAnnotation\"},{\"attributes\":{\"callback\":null,\"column_names\":[\"x\",\"y\"],\"data\":{\"x\":{\"__ndarray__\":\"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\",\"dtype\":\"float64\",\"shape\":[1000]},\"y\":{\"__ndarray__\":\"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\",\"dtype\":\"float64\",\"shape\":[1000]}}},\"id\":\"44fd66e5-240b-4f7d-a9aa-4b94adf76c7e\",\"type\":\"ColumnDataSource\"},{\"attributes\":{\"plot\":{\"id\":\"7f515112-e092-470e-bbc9-fac086042b3e\",\"subtype\":\"Figure\",\"type\":\"Plot\"}},\"id\":\"ed7ddcd9-c0b0-45dd-bb3f-f07936619d90\",\"type\":\"PanTool\"},{\"attributes\":{\"plot\":{\"id\":\"7f515112-e092-470e-bbc9-fac086042b3e\",\"subtype\":\"Figure\",\"type\":\"Plot\"}},\"id\":\"53722198-2b01-4d7f-81b2-2d3a9c0d3a68\",\"type\":\"WheelZoomTool\"},{\"attributes\":{\"callback\":null},\"id\":\"03480fa6-dd71-4826-a20c-61b50ef23a21\",\"type\":\"DataRange1d\"},{\"attributes\":{\"overlay\":{\"id\":\"26f66cb1-5ad0-451f-baf6-36fa929a3c35\",\"type\":\"BoxAnnotation\"},\"plot\":{\"id\":\"7f515112-e092-470e-bbc9-fac086042b3e\",\"subtype\":\"Figure\",\"type\":\"Plot\"}},\"id\":\"7773ef71-bcf7-46ed-b326-af8213628c9b\",\"type\":\"BoxZoomTool\"},{\"attributes\":{\"plot\":{\"id\":\"7f515112-e092-470e-bbc9-fac086042b3e\",\"subtype\":\"Figure\",\"type\":\"Plot\"}},\"id\":\"bd884db1-9423-494f-8b76-1bac2d3f7cfb\",\"type\":\"SaveTool\"},{\"attributes\":{\"plot\":{\"id\":\"7f515112-e092-470e-bbc9-fac086042b3e\",\"subtype\":\"Figure\",\"type\":\"Plot\"}},\"id\":\"23ef2bf7-40bc-4f19-8275-a951e8291835\",\"type\":\"ResetTool\"},{\"attributes\":{\"plot\":{\"id\":\"7f515112-e092-470e-bbc9-fac086042b3e\",\"subtype\":\"Figure\",\"type\":\"Plot\"}},\"id\":\"f415e8ad-5152-4fd7-8d6a-97991a2fe991\",\"type\":\"HelpTool\"},{\"attributes\":{\"line_color\":{\"value\":\"green\"},\"x\":{\"field\":\"x\"},\"y\":{\"field\":\"y\"}},\"id\":\"b9983a93-aedb-4ae0-b209-b9606307d86e\",\"type\":\"Line\"},{\"attributes\":{\"data_source\":{\"id\":\"44fd66e5-240b-4f7d-a9aa-4b94adf76c7e\",\"type\":\"ColumnDataSource\"},\"glyph\":{\"id\":\"b9983a93-aedb-4ae0-b209-b9606307d86e\",\"type\":\"Line\"},\"hover_glyph\":null,\"nonselection_glyph\":{\"id\":\"efd8ac75-f4c4-4197-9234-bf2a617d896c\",\"type\":\"Line\"},\"selection_glyph\":null},\"id\":\"90329e6a-faaf-4bd7-b1ae-c4d05b613ec9\",\"type\":\"GlyphRenderer\"},{\"attributes\":{\"line_alpha\":{\"value\":0.1},\"line_color\":{\"value\":\"#1f77b4\"},\"x\":{\"field\":\"x\"},\"y\":{\"field\":\"y\"}},\"id\":\"efd8ac75-f4c4-4197-9234-bf2a617d896c\",\"type\":\"Line\"},{\"attributes\":{\"label\":{\"value\":\"cos(1/x)\"},\"renderers\":[{\"id\":\"90329e6a-faaf-4bd7-b1ae-c4d05b613ec9\",\"type\":\"GlyphRenderer\"}]},\"id\":\"6625744d-1460-4ecf-8081-de99c79cb40f\",\"type\":\"LegendItem\"},{\"attributes\":{\"items\":[{\"id\":\"412c61e9-c99c-4c30-91d1-9228dfecab28\",\"type\":\"LegendItem\"},{\"id\":\"6625744d-1460-4ecf-8081-de99c79cb40f\",\"type\":\"LegendItem\"}],\"plot\":{\"id\":\"7f515112-e092-470e-bbc9-fac086042b3e\",\"subtype\":\"Figure\",\"type\":\"Plot\"}},\"id\":\"d730343d-5656-48e4-967b-6696b6731523\",\"type\":\"Legend\"},{\"attributes\":{},\"id\":\"aea05ce0-d5ff-41ae-a3a0-f33f2e7bb120\",\"type\":\"BasicTickFormatter\"},{\"attributes\":{\"data_source\":{\"id\":\"a4a5e57c-a262-45cc-b050-b497313f7793\",\"type\":\"ColumnDataSource\"},\"glyph\":{\"id\":\"15f93f28-779a-4afe-9cb6-d2f64540a149\",\"type\":\"Line\"},\"hover_glyph\":null,\"nonselection_glyph\":{\"id\":\"3962001a-26a8-4ddd-9ea9-d725734ed072\",\"type\":\"Line\"},\"selection_glyph\":null},\"id\":\"6d09edb4-9cc6-4197-bd11-cd61f6b1ae0d\",\"type\":\"GlyphRenderer\"},{\"attributes\":{\"line_alpha\":{\"value\":0.1},\"line_color\":{\"value\":\"#1f77b4\"},\"x\":{\"field\":\"x\"},\"y\":{\"field\":\"y\"}},\"id\":\"3962001a-26a8-4ddd-9ea9-d725734ed072\",\"type\":\"Line\"},{\"attributes\":{},\"id\":\"0e0458ce-a4ec-4abc-8293-32ad3006c21e\",\"type\":\"BasicTickFormatter\"},{\"attributes\":{\"label\":{\"value\":\"sin(1/x)\"},\"renderers\":[{\"id\":\"6d09edb4-9cc6-4197-bd11-cd61f6b1ae0d\",\"type\":\"GlyphRenderer\"}]},\"id\":\"412c61e9-c99c-4c30-91d1-9228dfecab28\",\"type\":\"LegendItem\"},{\"attributes\":{\"line_color\":{\"value\":\"red\"},\"x\":{\"field\":\"x\"},\"y\":{\"field\":\"y\"}},\"id\":\"15f93f28-779a-4afe-9cb6-d2f64540a149\",\"type\":\"Line\"},{\"attributes\":{\"plot\":null,\"text\":\"\"},\"id\":\"139bac39-8e05-4d7b-b3ef-e7b216a99b1b\",\"type\":\"Title\"},{\"attributes\":{\"callback\":null,\"column_names\":[\"x\",\"y\"],\"data\":{\"x\":{\"__ndarray__\":\"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\",\"dtype\":\"float64\",\"shape\":[1000]},\"y\":{\"__ndarray__\":\"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\",\"dtype\":\"float64\",\"shape\":[1000]}}},\"id\":\"a4a5e57c-a262-45cc-b050-b497313f7793\",\"type\":\"ColumnDataSource\"},{\"attributes\":{},\"id\":\"c819e580-d933-49ee-bde3-ed825105f828\",\"type\":\"ToolEvents\"},{\"attributes\":{\"below\":[{\"id\":\"8d6c12f9-4fa5-4073-898c-4ae9bf53e169\",\"type\":\"LinearAxis\"}],\"left\":[{\"id\":\"6f566d7c-c830-4301-aca4-687d33c30b60\",\"type\":\"LinearAxis\"}],\"plot_height\":400,\"renderers\":[{\"id\":\"8d6c12f9-4fa5-4073-898c-4ae9bf53e169\",\"type\":\"LinearAxis\"},{\"id\":\"4aaffb0f-a0a0-43c5-bb21-47e4c251bfcd\",\"type\":\"Grid\"},{\"id\":\"6f566d7c-c830-4301-aca4-687d33c30b60\",\"type\":\"LinearAxis\"},{\"id\":\"9fb22a5f-0e3d-4298-9e48-65d357982902\",\"type\":\"Grid\"},{\"id\":\"26f66cb1-5ad0-451f-baf6-36fa929a3c35\",\"type\":\"BoxAnnotation\"},{\"id\":\"d730343d-5656-48e4-967b-6696b6731523\",\"type\":\"Legend\"},{\"id\":\"6d09edb4-9cc6-4197-bd11-cd61f6b1ae0d\",\"type\":\"GlyphRenderer\"},{\"id\":\"90329e6a-faaf-4bd7-b1ae-c4d05b613ec9\",\"type\":\"GlyphRenderer\"}],\"title\":{\"id\":\"139bac39-8e05-4d7b-b3ef-e7b216a99b1b\",\"type\":\"Title\"},\"tool_events\":{\"id\":\"c819e580-d933-49ee-bde3-ed825105f828\",\"type\":\"ToolEvents\"},\"toolbar\":{\"id\":\"db719178-99b4-4fb0-8c6c-3734a36ebc0a\",\"type\":\"Toolbar\"},\"x_range\":{\"id\":\"03480fa6-dd71-4826-a20c-61b50ef23a21\",\"type\":\"DataRange1d\"},\"y_range\":{\"id\":\"5408155f-7e00-4db1-9601-0d20120dd503\",\"type\":\"DataRange1d\"}},\"id\":\"7f515112-e092-470e-bbc9-fac086042b3e\",\"subtype\":\"Figure\",\"type\":\"Plot\"},{\"attributes\":{},\"id\":\"363fb738-333c-4455-a828-36b40d346d4a\",\"type\":\"BasicTicker\"},{\"attributes\":{\"active_drag\":\"auto\",\"active_scroll\":\"auto\",\"active_tap\":\"auto\",\"tools\":[{\"id\":\"ed7ddcd9-c0b0-45dd-bb3f-f07936619d90\",\"type\":\"PanTool\"},{\"id\":\"53722198-2b01-4d7f-81b2-2d3a9c0d3a68\",\"type\":\"WheelZoomTool\"},{\"id\":\"7773ef71-bcf7-46ed-b326-af8213628c9b\",\"type\":\"BoxZoomTool\"},{\"id\":\"bd884db1-9423-494f-8b76-1bac2d3f7cfb\",\"type\":\"SaveTool\"},{\"id\":\"23ef2bf7-40bc-4f19-8275-a951e8291835\",\"type\":\"ResetTool\"},{\"id\":\"f415e8ad-5152-4fd7-8d6a-97991a2fe991\",\"type\":\"HelpTool\"}]},\"id\":\"db719178-99b4-4fb0-8c6c-3734a36ebc0a\",\"type\":\"Toolbar\"},{\"attributes\":{\"callback\":null},\"id\":\"5408155f-7e00-4db1-9601-0d20120dd503\",\"type\":\"DataRange1d\"},{\"attributes\":{\"formatter\":{\"id\":\"0e0458ce-a4ec-4abc-8293-32ad3006c21e\",\"type\":\"BasicTickFormatter\"},\"plot\":{\"id\":\"7f515112-e092-470e-bbc9-fac086042b3e\",\"subtype\":\"Figure\",\"type\":\"Plot\"},\"ticker\":{\"id\":\"363fb738-333c-4455-a828-36b40d346d4a\",\"type\":\"BasicTicker\"}},\"id\":\"8d6c12f9-4fa5-4073-898c-4ae9bf53e169\",\"type\":\"LinearAxis\"}],\"root_ids\":[\"7f515112-e092-470e-bbc9-fac086042b3e\"]},\"title\":\"Bokeh Application\",\"version\":\"0.12.4\"}};\n",
       "            var render_items = [{\"docid\":\"09031719-9e44-4f7c-a5ec-2b71a7b9d13d\",\"elementid\":\"356f827b-922d-4210-b8d4-45b44692a37b\",\"modelid\":\"7f515112-e092-470e-bbc9-fac086042b3e\"}];\n",
       "            \n",
       "            Bokeh.embed.embed_items(docs_json, render_items);\n",
       "          };\n",
       "          if (document.readyState != \"loading\") fn();\n",
       "          else document.addEventListener(\"DOMContentLoaded\", fn);\n",
       "        })();\n",
       "      },\n",
       "      function(Bokeh) {\n",
       "      }\n",
       "    ];\n",
       "  \n",
       "    function run_inline_js() {\n",
       "      \n",
       "      if ((window.Bokeh !== undefined) || (force === true)) {\n",
       "        for (var i = 0; i < inline_js.length; i++) {\n",
       "          inline_js[i](window.Bokeh);\n",
       "        }if (force === true) {\n",
       "          display_loaded();\n",
       "        }} else if (Date.now() < window._bokeh_timeout) {\n",
       "        setTimeout(run_inline_js, 100);\n",
       "      } else if (!window._bokeh_failed_load) {\n",
       "        console.log(\"Bokeh: BokehJS failed to load within specified timeout.\");\n",
       "        window._bokeh_failed_load = true;\n",
       "      } else if (force !== true) {\n",
       "        var cell = $(document.getElementById(\"356f827b-922d-4210-b8d4-45b44692a37b\")).parents('.cell').data().cell;\n",
       "        cell.output_area.append_execute_result(NB_LOAD_WARNING)\n",
       "      }\n",
       "  \n",
       "    }\n",
       "  \n",
       "    if (window._bokeh_is_loading === 0) {\n",
       "      console.log(\"Bokeh: BokehJS loaded, going straight to plotting\");\n",
       "      run_inline_js();\n",
       "    } else {\n",
       "      load_libs(js_urls, function() {\n",
       "        console.log(\"Bokeh: BokehJS plotting callback run at\", now());\n",
       "        run_inline_js();\n",
       "      });\n",
       "    }\n",
       "  }(this));\n",
       "</script>"
      ],
      "text/plain": [
       "\n",
       "\n",
       "    <div class=\"bk-root\">\n",
       "        <div class=\"bk-plotdiv\" id=\"356f827b-922d-4210-b8d4-45b44692a37b\"></div>\n",
       "    </div>\n",
       "<script type=\"text/javascript\">\n",
       "  \n",
       "  (function(global) {\n",
       "    function now() {\n",
       "      return new Date();\n",
       "    }\n",
       "  \n",
       "    var force = false;\n",
       "  \n",
       "    if (typeof (window._bokeh_onload_callbacks) === \"undefined\" || force === true) {\n",
       "      window._bokeh_onload_callbacks = [];\n",
       "      window._bokeh_is_loading = undefined;\n",
       "    }\n",
       "  \n",
       "  \n",
       "    \n",
       "    if (typeof (window._bokeh_timeout) === \"undefined\" || force === true) {\n",
       "      window._bokeh_timeout = Date.now() + 0;\n",
       "      window._bokeh_failed_load = false;\n",
       "    }\n",
       "  \n",
       "    var NB_LOAD_WARNING = {'data': {'text/html':\n",
       "       \"<div style='background-color: #fdd'>\\n\"+\n",
       "       \"<p>\\n\"+\n",
       "       \"BokehJS does not appear to have successfully loaded. If loading BokehJS from CDN, this \\n\"+\n",
       "       \"may be due to a slow or bad network connection. Possible fixes:\\n\"+\n",
       "       \"</p>\\n\"+\n",
       "       \"<ul>\\n\"+\n",
       "       \"<li>re-rerun `output_notebook()` to attempt to load from CDN again, or</li>\\n\"+\n",
       "       \"<li>use INLINE resources instead, as so:</li>\\n\"+\n",
       "       \"</ul>\\n\"+\n",
       "       \"<code>\\n\"+\n",
       "       \"from bokeh.resources import INLINE\\n\"+\n",
       "       \"output_notebook(resources=INLINE)\\n\"+\n",
       "       \"</code>\\n\"+\n",
       "       \"</div>\"}};\n",
       "  \n",
       "    function display_loaded() {\n",
       "      if (window.Bokeh !== undefined) {\n",
       "        document.getElementById(\"356f827b-922d-4210-b8d4-45b44692a37b\").textContent = \"BokehJS successfully loaded.\";\n",
       "      } else if (Date.now() < window._bokeh_timeout) {\n",
       "        setTimeout(display_loaded, 100)\n",
       "      }\n",
       "    }\n",
       "  \n",
       "    function run_callbacks() {\n",
       "      window._bokeh_onload_callbacks.forEach(function(callback) { callback() });\n",
       "      delete window._bokeh_onload_callbacks\n",
       "      console.info(\"Bokeh: all callbacks have finished\");\n",
       "    }\n",
       "  \n",
       "    function load_libs(js_urls, callback) {\n",
       "      window._bokeh_onload_callbacks.push(callback);\n",
       "      if (window._bokeh_is_loading > 0) {\n",
       "        console.log(\"Bokeh: BokehJS is being loaded, scheduling callback at\", now());\n",
       "        return null;\n",
       "      }\n",
       "      if (js_urls == null || js_urls.length === 0) {\n",
       "        run_callbacks();\n",
       "        return null;\n",
       "      }\n",
       "      console.log(\"Bokeh: BokehJS not loaded, scheduling load and callback at\", now());\n",
       "      window._bokeh_is_loading = js_urls.length;\n",
       "      for (var i = 0; i < js_urls.length; i++) {\n",
       "        var url = js_urls[i];\n",
       "        var s = document.createElement('script');\n",
       "        s.src = url;\n",
       "        s.async = false;\n",
       "        s.onreadystatechange = s.onload = function() {\n",
       "          window._bokeh_is_loading--;\n",
       "          if (window._bokeh_is_loading === 0) {\n",
       "            console.log(\"Bokeh: all BokehJS libraries loaded\");\n",
       "            run_callbacks()\n",
       "          }\n",
       "        };\n",
       "        s.onerror = function() {\n",
       "          console.warn(\"failed to load library \" + url);\n",
       "        };\n",
       "        console.log(\"Bokeh: injecting script tag for BokehJS library: \", url);\n",
       "        document.getElementsByTagName(\"head\")[0].appendChild(s);\n",
       "      }\n",
       "    };var element = document.getElementById(\"356f827b-922d-4210-b8d4-45b44692a37b\");\n",
       "    if (element == null) {\n",
       "      console.log(\"Bokeh: ERROR: autoload.js configured with elementid '356f827b-922d-4210-b8d4-45b44692a37b' but no matching script tag was found. \")\n",
       "      return false;\n",
       "    }\n",
       "  \n",
       "    var js_urls = [];\n",
       "  \n",
       "    var inline_js = [\n",
       "      function(Bokeh) {\n",
       "        (function() {\n",
       "          var fn = function() {\n",
       "            var docs_json = {\"09031719-9e44-4f7c-a5ec-2b71a7b9d13d\":{\"roots\":{\"references\":[{\"attributes\":{\"plot\":{\"id\":\"7f515112-e092-470e-bbc9-fac086042b3e\",\"subtype\":\"Figure\",\"type\":\"Plot\"},\"ticker\":{\"id\":\"363fb738-333c-4455-a828-36b40d346d4a\",\"type\":\"BasicTicker\"}},\"id\":\"4aaffb0f-a0a0-43c5-bb21-47e4c251bfcd\",\"type\":\"Grid\"},{\"attributes\":{\"formatter\":{\"id\":\"aea05ce0-d5ff-41ae-a3a0-f33f2e7bb120\",\"type\":\"BasicTickFormatter\"},\"plot\":{\"id\":\"7f515112-e092-470e-bbc9-fac086042b3e\",\"subtype\":\"Figure\",\"type\":\"Plot\"},\"ticker\":{\"id\":\"8684fb31-5b08-4f78-9c3d-e639c978c1ac\",\"type\":\"BasicTicker\"}},\"id\":\"6f566d7c-c830-4301-aca4-687d33c30b60\",\"type\":\"LinearAxis\"},{\"attributes\":{},\"id\":\"8684fb31-5b08-4f78-9c3d-e639c978c1ac\",\"type\":\"BasicTicker\"},{\"attributes\":{\"dimension\":1,\"plot\":{\"id\":\"7f515112-e092-470e-bbc9-fac086042b3e\",\"subtype\":\"Figure\",\"type\":\"Plot\"},\"ticker\":{\"id\":\"8684fb31-5b08-4f78-9c3d-e639c978c1ac\",\"type\":\"BasicTicker\"}},\"id\":\"9fb22a5f-0e3d-4298-9e48-65d357982902\",\"type\":\"Grid\"},{\"attributes\":{\"bottom_units\":\"screen\",\"fill_alpha\":{\"value\":0.5},\"fill_color\":{\"value\":\"lightgrey\"},\"left_units\":\"screen\",\"level\":\"overlay\",\"line_alpha\":{\"value\":1.0},\"line_color\":{\"value\":\"black\"},\"line_dash\":[4,4],\"line_width\":{\"value\":2},\"plot\":null,\"render_mode\":\"css\",\"right_units\":\"screen\",\"top_units\":\"screen\"},\"id\":\"26f66cb1-5ad0-451f-baf6-36fa929a3c35\",\"type\":\"BoxAnnotation\"},{\"attributes\":{\"callback\":null,\"column_names\":[\"x\",\"y\"],\"data\":{\"x\":{\"__ndarray__\":\"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\",\"dtype\":\"float64\",\"shape\":[1000]},\"y\":{\"__ndarray__\":\"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\",\"dtype\":\"float64\",\"shape\":[1000]}}},\"id\":\"44fd66e5-240b-4f7d-a9aa-4b94adf76c7e\",\"type\":\"ColumnDataSource\"},{\"attributes\":{\"plot\":{\"id\":\"7f515112-e092-470e-bbc9-fac086042b3e\",\"subtype\":\"Figure\",\"type\":\"Plot\"}},\"id\":\"ed7ddcd9-c0b0-45dd-bb3f-f07936619d90\",\"type\":\"PanTool\"},{\"attributes\":{\"plot\":{\"id\":\"7f515112-e092-470e-bbc9-fac086042b3e\",\"subtype\":\"Figure\",\"type\":\"Plot\"}},\"id\":\"53722198-2b01-4d7f-81b2-2d3a9c0d3a68\",\"type\":\"WheelZoomTool\"},{\"attributes\":{\"callback\":null},\"id\":\"03480fa6-dd71-4826-a20c-61b50ef23a21\",\"type\":\"DataRange1d\"},{\"attributes\":{\"overlay\":{\"id\":\"26f66cb1-5ad0-451f-baf6-36fa929a3c35\",\"type\":\"BoxAnnotation\"},\"plot\":{\"id\":\"7f515112-e092-470e-bbc9-fac086042b3e\",\"subtype\":\"Figure\",\"type\":\"Plot\"}},\"id\":\"7773ef71-bcf7-46ed-b326-af8213628c9b\",\"type\":\"BoxZoomTool\"},{\"attributes\":{\"plot\":{\"id\":\"7f515112-e092-470e-bbc9-fac086042b3e\",\"subtype\":\"Figure\",\"type\":\"Plot\"}},\"id\":\"bd884db1-9423-494f-8b76-1bac2d3f7cfb\",\"type\":\"SaveTool\"},{\"attributes\":{\"plot\":{\"id\":\"7f515112-e092-470e-bbc9-fac086042b3e\",\"subtype\":\"Figure\",\"type\":\"Plot\"}},\"id\":\"23ef2bf7-40bc-4f19-8275-a951e8291835\",\"type\":\"ResetTool\"},{\"attributes\":{\"plot\":{\"id\":\"7f515112-e092-470e-bbc9-fac086042b3e\",\"subtype\":\"Figure\",\"type\":\"Plot\"}},\"id\":\"f415e8ad-5152-4fd7-8d6a-97991a2fe991\",\"type\":\"HelpTool\"},{\"attributes\":{\"line_color\":{\"value\":\"green\"},\"x\":{\"field\":\"x\"},\"y\":{\"field\":\"y\"}},\"id\":\"b9983a93-aedb-4ae0-b209-b9606307d86e\",\"type\":\"Line\"},{\"attributes\":{\"data_source\":{\"id\":\"44fd66e5-240b-4f7d-a9aa-4b94adf76c7e\",\"type\":\"ColumnDataSource\"},\"glyph\":{\"id\":\"b9983a93-aedb-4ae0-b209-b9606307d86e\",\"type\":\"Line\"},\"hover_glyph\":null,\"nonselection_glyph\":{\"id\":\"efd8ac75-f4c4-4197-9234-bf2a617d896c\",\"type\":\"Line\"},\"selection_glyph\":null},\"id\":\"90329e6a-faaf-4bd7-b1ae-c4d05b613ec9\",\"type\":\"GlyphRenderer\"},{\"attributes\":{\"line_alpha\":{\"value\":0.1},\"line_color\":{\"value\":\"#1f77b4\"},\"x\":{\"field\":\"x\"},\"y\":{\"field\":\"y\"}},\"id\":\"efd8ac75-f4c4-4197-9234-bf2a617d896c\",\"type\":\"Line\"},{\"attributes\":{\"label\":{\"value\":\"cos(1/x)\"},\"renderers\":[{\"id\":\"90329e6a-faaf-4bd7-b1ae-c4d05b613ec9\",\"type\":\"GlyphRenderer\"}]},\"id\":\"6625744d-1460-4ecf-8081-de99c79cb40f\",\"type\":\"LegendItem\"},{\"attributes\":{\"items\":[{\"id\":\"412c61e9-c99c-4c30-91d1-9228dfecab28\",\"type\":\"LegendItem\"},{\"id\":\"6625744d-1460-4ecf-8081-de99c79cb40f\",\"type\":\"LegendItem\"}],\"plot\":{\"id\":\"7f515112-e092-470e-bbc9-fac086042b3e\",\"subtype\":\"Figure\",\"type\":\"Plot\"}},\"id\":\"d730343d-5656-48e4-967b-6696b6731523\",\"type\":\"Legend\"},{\"attributes\":{},\"id\":\"aea05ce0-d5ff-41ae-a3a0-f33f2e7bb120\",\"type\":\"BasicTickFormatter\"},{\"attributes\":{\"data_source\":{\"id\":\"a4a5e57c-a262-45cc-b050-b497313f7793\",\"type\":\"ColumnDataSource\"},\"glyph\":{\"id\":\"15f93f28-779a-4afe-9cb6-d2f64540a149\",\"type\":\"Line\"},\"hover_glyph\":null,\"nonselection_glyph\":{\"id\":\"3962001a-26a8-4ddd-9ea9-d725734ed072\",\"type\":\"Line\"},\"selection_glyph\":null},\"id\":\"6d09edb4-9cc6-4197-bd11-cd61f6b1ae0d\",\"type\":\"GlyphRenderer\"},{\"attributes\":{\"line_alpha\":{\"value\":0.1},\"line_color\":{\"value\":\"#1f77b4\"},\"x\":{\"field\":\"x\"},\"y\":{\"field\":\"y\"}},\"id\":\"3962001a-26a8-4ddd-9ea9-d725734ed072\",\"type\":\"Line\"},{\"attributes\":{},\"id\":\"0e0458ce-a4ec-4abc-8293-32ad3006c21e\",\"type\":\"BasicTickFormatter\"},{\"attributes\":{\"label\":{\"value\":\"sin(1/x)\"},\"renderers\":[{\"id\":\"6d09edb4-9cc6-4197-bd11-cd61f6b1ae0d\",\"type\":\"GlyphRenderer\"}]},\"id\":\"412c61e9-c99c-4c30-91d1-9228dfecab28\",\"type\":\"LegendItem\"},{\"attributes\":{\"line_color\":{\"value\":\"red\"},\"x\":{\"field\":\"x\"},\"y\":{\"field\":\"y\"}},\"id\":\"15f93f28-779a-4afe-9cb6-d2f64540a149\",\"type\":\"Line\"},{\"attributes\":{\"plot\":null,\"text\":\"\"},\"id\":\"139bac39-8e05-4d7b-b3ef-e7b216a99b1b\",\"type\":\"Title\"},{\"attributes\":{\"callback\":null,\"column_names\":[\"x\",\"y\"],\"data\":{\"x\":{\"__ndarray__\":\"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\",\"dtype\":\"float64\",\"shape\":[1000]},\"y\":{\"__ndarray__\":\"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\",\"dtype\":\"float64\",\"shape\":[1000]}}},\"id\":\"a4a5e57c-a262-45cc-b050-b497313f7793\",\"type\":\"ColumnDataSource\"},{\"attributes\":{},\"id\":\"c819e580-d933-49ee-bde3-ed825105f828\",\"type\":\"ToolEvents\"},{\"attributes\":{\"below\":[{\"id\":\"8d6c12f9-4fa5-4073-898c-4ae9bf53e169\",\"type\":\"LinearAxis\"}],\"left\":[{\"id\":\"6f566d7c-c830-4301-aca4-687d33c30b60\",\"type\":\"LinearAxis\"}],\"plot_height\":400,\"renderers\":[{\"id\":\"8d6c12f9-4fa5-4073-898c-4ae9bf53e169\",\"type\":\"LinearAxis\"},{\"id\":\"4aaffb0f-a0a0-43c5-bb21-47e4c251bfcd\",\"type\":\"Grid\"},{\"id\":\"6f566d7c-c830-4301-aca4-687d33c30b60\",\"type\":\"LinearAxis\"},{\"id\":\"9fb22a5f-0e3d-4298-9e48-65d357982902\",\"type\":\"Grid\"},{\"id\":\"26f66cb1-5ad0-451f-baf6-36fa929a3c35\",\"type\":\"BoxAnnotation\"},{\"id\":\"d730343d-5656-48e4-967b-6696b6731523\",\"type\":\"Legend\"},{\"id\":\"6d09edb4-9cc6-4197-bd11-cd61f6b1ae0d\",\"type\":\"GlyphRenderer\"},{\"id\":\"90329e6a-faaf-4bd7-b1ae-c4d05b613ec9\",\"type\":\"GlyphRenderer\"}],\"title\":{\"id\":\"139bac39-8e05-4d7b-b3ef-e7b216a99b1b\",\"type\":\"Title\"},\"tool_events\":{\"id\":\"c819e580-d933-49ee-bde3-ed825105f828\",\"type\":\"ToolEvents\"},\"toolbar\":{\"id\":\"db719178-99b4-4fb0-8c6c-3734a36ebc0a\",\"type\":\"Toolbar\"},\"x_range\":{\"id\":\"03480fa6-dd71-4826-a20c-61b50ef23a21\",\"type\":\"DataRange1d\"},\"y_range\":{\"id\":\"5408155f-7e00-4db1-9601-0d20120dd503\",\"type\":\"DataRange1d\"}},\"id\":\"7f515112-e092-470e-bbc9-fac086042b3e\",\"subtype\":\"Figure\",\"type\":\"Plot\"},{\"attributes\":{},\"id\":\"363fb738-333c-4455-a828-36b40d346d4a\",\"type\":\"BasicTicker\"},{\"attributes\":{\"active_drag\":\"auto\",\"active_scroll\":\"auto\",\"active_tap\":\"auto\",\"tools\":[{\"id\":\"ed7ddcd9-c0b0-45dd-bb3f-f07936619d90\",\"type\":\"PanTool\"},{\"id\":\"53722198-2b01-4d7f-81b2-2d3a9c0d3a68\",\"type\":\"WheelZoomTool\"},{\"id\":\"7773ef71-bcf7-46ed-b326-af8213628c9b\",\"type\":\"BoxZoomTool\"},{\"id\":\"bd884db1-9423-494f-8b76-1bac2d3f7cfb\",\"type\":\"SaveTool\"},{\"id\":\"23ef2bf7-40bc-4f19-8275-a951e8291835\",\"type\":\"ResetTool\"},{\"id\":\"f415e8ad-5152-4fd7-8d6a-97991a2fe991\",\"type\":\"HelpTool\"}]},\"id\":\"db719178-99b4-4fb0-8c6c-3734a36ebc0a\",\"type\":\"Toolbar\"},{\"attributes\":{\"callback\":null},\"id\":\"5408155f-7e00-4db1-9601-0d20120dd503\",\"type\":\"DataRange1d\"},{\"attributes\":{\"formatter\":{\"id\":\"0e0458ce-a4ec-4abc-8293-32ad3006c21e\",\"type\":\"BasicTickFormatter\"},\"plot\":{\"id\":\"7f515112-e092-470e-bbc9-fac086042b3e\",\"subtype\":\"Figure\",\"type\":\"Plot\"},\"ticker\":{\"id\":\"363fb738-333c-4455-a828-36b40d346d4a\",\"type\":\"BasicTicker\"}},\"id\":\"8d6c12f9-4fa5-4073-898c-4ae9bf53e169\",\"type\":\"LinearAxis\"}],\"root_ids\":[\"7f515112-e092-470e-bbc9-fac086042b3e\"]},\"title\":\"Bokeh Application\",\"version\":\"0.12.4\"}};\n",
       "            var render_items = [{\"docid\":\"09031719-9e44-4f7c-a5ec-2b71a7b9d13d\",\"elementid\":\"356f827b-922d-4210-b8d4-45b44692a37b\",\"modelid\":\"7f515112-e092-470e-bbc9-fac086042b3e\"}];\n",
       "            \n",
       "            Bokeh.embed.embed_items(docs_json, render_items);\n",
       "          };\n",
       "          if (document.readyState != \"loading\") fn();\n",
       "          else document.addEventListener(\"DOMContentLoaded\", fn);\n",
       "        })();\n",
       "      },\n",
       "      function(Bokeh) {\n",
       "      }\n",
       "    ];\n",
       "  \n",
       "    function run_inline_js() {\n",
       "      \n",
       "      if ((window.Bokeh !== undefined) || (force === true)) {\n",
       "        for (var i = 0; i < inline_js.length; i++) {\n",
       "          inline_js[i](window.Bokeh);\n",
       "        }if (force === true) {\n",
       "          display_loaded();\n",
       "        }} else if (Date.now() < window._bokeh_timeout) {\n",
       "        setTimeout(run_inline_js, 100);\n",
       "      } else if (!window._bokeh_failed_load) {\n",
       "        console.log(\"Bokeh: BokehJS failed to load within specified timeout.\");\n",
       "        window._bokeh_failed_load = true;\n",
       "      } else if (force !== true) {\n",
       "        var cell = $(document.getElementById(\"356f827b-922d-4210-b8d4-45b44692a37b\")).parents('.cell').data().cell;\n",
       "        cell.output_area.append_execute_result(NB_LOAD_WARNING)\n",
       "      }\n",
       "  \n",
       "    }\n",
       "  \n",
       "    if (window._bokeh_is_loading === 0) {\n",
       "      console.log(\"Bokeh: BokehJS loaded, going straight to plotting\");\n",
       "      run_inline_js();\n",
       "    } else {\n",
       "      load_libs(js_urls, function() {\n",
       "        console.log(\"Bokeh: BokehJS plotting callback run at\", now());\n",
       "        run_inline_js();\n",
       "      });\n",
       "    }\n",
       "  }(this));\n",
       "</script>"
      ]
     },
     "execution_count": 0,
     "metadata": {},
     "output_type": "execute_result"
    }
   ],
   "source": [
    "xs = np.linspace(0.1, 2, 1000)\n",
    "fig = figure(width=600, plot_height=400)\n",
    "for name, func, color in [(\"sin(1/x)\", np.sin, \"red\"), (\"cos(1/x)\", np.cos, \"green\")]:\n",
    "    fig.line(xs, np.apply_along_axis(lambda x: func(1/x), 0, xs), legend=name, color=color)\n",
    "show(fig)"
   ]
  },
  {
   "cell_type": "code",
   "execution_count": 51,
   "metadata": {},
   "outputs": [],
   "source": [
    "def adaptive_quad(func, a: float, b: float, tol):\n",
    "    assert b > a\n",
    "    y_a, y_b = func(a), func(b)\n",
    "    simps_appx = integrate.simps([y_a, y_b], [a, b])\n",
    "    trapz_appx = integrate.trapz([y_a, y_b], [a, b])\n",
    "    error = np.abs(simps_appx - trapz_appx)/(2**4 - 1)\n",
    "    if error <= tol:\n",
    "        return (simps_appx, 1)\n",
    "    mid = a + (b - a)/2\n",
    "    return [(left[0] + right[0], left[1] + right[1]) \n",
    "            for left, right \n",
    "            in (adaptive_quad(func, a, mid, tol/2), adaptive_quad(func, mid, b, tol/2))]"
   ]
  },
  {
   "cell_type": "code",
   "execution_count": 52,
   "metadata": {},
   "outputs": [],
   "source": [
    "f_appx = adaptive_quad(lambda x: np.sin(1/x), 0.1, 2, 0.00001)\n",
    "g_appx = adaptive_quad(lambda x: np.cos(1/x), 0.1, 2, 0.00001)"
   ]
  },
  {
   "cell_type": "code",
   "execution_count": 53,
   "metadata": {},
   "outputs": [
    {
     "data": {
      "text/html": [
       "<div>\n",
       "<table border=\"1\" class=\"dataframe\">\n",
       "  <thead>\n",
       "    <tr style=\"text-align: right;\">\n",
       "      <th></th>\n",
       "      <th>Value</th>\n",
       "      <th>Number of intervals</th>\n",
       "    </tr>\n",
       "  </thead>\n",
       "  <tbody>\n",
       "    <tr>\n",
       "      <th>f(x)</th>\n",
       "      <td>-0.061366</td>\n",
       "      <td>1</td>\n",
       "    </tr>\n",
       "    <tr>\n",
       "      <th>g(x)</th>\n",
       "      <td>0.036585</td>\n",
       "      <td>1</td>\n",
       "    </tr>\n",
       "  </tbody>\n",
       "</table>\n",
       "</div>"
      ],
      "text/plain": [
       "<div>\n",
       "<table border=\"1\" class=\"dataframe\">\n",
       "  <thead>\n",
       "    <tr style=\"text-align: right;\">\n",
       "      <th></th>\n",
       "      <th>Value</th>\n",
       "      <th>Number of intervals</th>\n",
       "    </tr>\n",
       "  </thead>\n",
       "  <tbody>\n",
       "    <tr>\n",
       "      <th>f(x)</th>\n",
       "      <td>-0.061366</td>\n",
       "      <td>1</td>\n",
       "    </tr>\n",
       "    <tr>\n",
       "      <th>g(x)</th>\n",
       "      <td>0.036585</td>\n",
       "      <td>1</td>\n",
       "    </tr>\n",
       "  </tbody>\n",
       "</table>\n",
       "</div>"
      ]
     },
     "execution_count": 53,
     "metadata": {},
     "output_type": "execute_result"
    }
   ],
   "source": [
    "results = pd.DataFrame([f_appx, g_appx], columns=[\"Value\", \"Number of intervals\"], index=[\"f(x)\", \"g(x)\"])\n",
    "results"
   ]
  },
  {
   "cell_type": "markdown",
   "metadata": {},
   "source": [
    "### Problem 3"
   ]
  },
  {
   "cell_type": "markdown",
   "metadata": {},
   "source": [
    "Solving $\\int_{-1}^{1}f(x)dx = af(-1) + bf(1) + cf'(-1) + df'(1)$ for $f(x)=1$, $f(x)=x$, $f(x)=x^2$, and $f(x)=x^3$ gives\n",
    "\n",
    "\\begin{equation}\n",
    "\\begin{pmatrix}\n",
    "1 & 1 & 0 & 0\\\\\n",
    "-1 & 1 & 1 & 1\\\\\n",
    "1 & 1 & -2 & 2\\\\\n",
    "-1 & 1 & 3 & 3\\\\\n",
    "\\end{pmatrix}\n",
    "\\begin{pmatrix}\n",
    "a \\\\ b \\\\ c \\\\ d \\\\\n",
    "\\end{pmatrix}\n",
    "=\n",
    "\\begin{pmatrix}\n",
    "2 \\\\ 0 \\\\ 2/3 \\\\ 0 \\\\\n",
    "\\end{pmatrix}\n",
    "\\end{equation}\n",
    "\n",
    "Solving the linear system,\n",
    "\n",
    "\\begin{equation}\n",
    "\\begin{pmatrix}\n",
    "a \\\\ b \\\\ c \\\\ d \\\\\n",
    "\\end{pmatrix}\n",
    "=\n",
    "\\begin{pmatrix}\n",
    "1 \\\\ 1 \\\\ 1/3 \\\\ -1/3 \\\\\n",
    "\\end{pmatrix}\n",
    "\\end{equation}"
   ]
  },
  {
   "cell_type": "markdown",
   "metadata": {},
   "source": [
    "### Problem 4"
   ]
  },
  {
   "cell_type": "markdown",
   "metadata": {},
   "source": [
    "$$\\begin{equation}\\mid I-Q_{2n}\\mid \\approx \\frac{\\mid Q_{2n}-Q_n\\mid }{2^2-1}\\end{equation}$$"
   ]
  },
  {
   "cell_type": "code",
   "execution_count": 62,
   "metadata": {},
   "outputs": [],
   "source": [
    "def integrate_function(func, a: float, b: float, tol: float):\n",
    "    assert b > a\n",
    "    y_a, y_b = func(a), func(b)\n",
    "    mid = a + (b - a)/2\n",
    "    Q = integrate.trapz([y_a, y_b], [a, b])\n",
    "    Q2 = integrate.trapz([y_a, func(mid), y_b], [a, mid, b])\n",
    "    error = np.abs(Q2 - Q)/(2**2 - 1)\n",
    "    if error <= tol:\n",
    "        return Q2\n",
    "    return integrate_function(func, a, mid, tol/2) + integrate_function(func, mid, b, tol/2)"
   ]
  },
  {
   "cell_type": "code",
   "execution_count": 64,
   "metadata": {},
   "outputs": [
    {
     "data": {
      "text/plain": [
       "21.000004291534424"
      ]
     },
     "execution_count": 64,
     "metadata": {},
     "output_type": "execute_result"
    }
   ],
   "source": [
    "integrate_function(lambda x: x**2, 1, 4, 0.00001)"
   ]
  },
  {
   "cell_type": "markdown",
   "metadata": {},
   "source": [
    "$$\\begin{equation}\\int_{1}^{4}x^2 dx = 21\\end{equation}$$ \n",
    "For comparison:"
   ]
  },
  {
   "cell_type": "code",
   "execution_count": 61,
   "metadata": {},
   "outputs": [
    {
     "data": {
      "text/plain": [
       "21.000459136822773"
      ]
     },
     "execution_count": 61,
     "metadata": {},
     "output_type": "execute_result"
    }
   ],
   "source": [
    "xs = np.linspace(1, 4, 100)\n",
    "ys = np.square(xs)\n",
    "integrate.trapz(ys, xs)"
   ]
  },
  {
   "cell_type": "code",
   "execution_count": null,
   "metadata": {},
   "outputs": [],
   "source": []
  }
 ],
 "metadata": {
  "kernelspec": {
   "display_name": "Python 2",
   "language": "python",
   "name": "python2"
  },
  "language_info": {
   "codemirror_mode": {
    "name": "ipython",
    "version": 2
   },
   "file_extension": ".py",
   "mimetype": "text/x-python",
   "name": "python",
   "nbconvert_exporter": "python",
   "pygments_lexer": "ipython2",
   "version": "2.7.6"
  }
 },
 "nbformat": 4,
 "nbformat_minor": 0
}
